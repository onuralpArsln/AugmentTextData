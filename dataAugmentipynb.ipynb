{
 "cells": [
  {
   "cell_type": "markdown",
   "metadata": {},
   "source": [
    "# Step 0: Understanding your data amount\n",
    "_________________________________________"
   ]
  },
  {
   "cell_type": "markdown",
   "metadata": {},
   "source": [
    "We got our data set preapred from -> https://github.com/onuralpArsln/dataPrepWithPandas   \n",
    "\n",
    "It is a repo to show how to prepare text data for further applications.   \n",
    "\n",
    "Our data now fairly  cleaned yet it is to low for our use case. So we need to augment it."
   ]
  },
  {
   "cell_type": "markdown",
   "metadata": {},
   "source": [
    "Cell below aims to see how many time our impressions repeat.\n",
    "\n",
    "Why do we care?\n",
    "\n",
    "if we have to many repeated impressions our model will lean towards it and will give out that answers as optimal summary.  \n",
    "\n",
    "To avoid that   we need to prevent repeats. Repeats mostly occurs in healthy results. "
   ]
  },
  {
   "cell_type": "code",
   "execution_count": 5,
   "metadata": {},
   "outputs": [
    {
     "name": "stdout",
     "output_type": "stream",
     "text": [
      "impression\n",
      "no acute disease                                                                                                                                                       25\n",
      "no evidence of active disease                                                                                                                                          19\n",
      "no acute cardiopulmonary disease                                                                                                                                       14\n",
      "no acute cardiopulmonary findings. \\nthis examination and reported findings have been reviewed and confirmed by the undersigned                                        12\n",
      "no acute cardiopulmonary abnormality                                                                                                                                   12\n",
      "no acute cardiopulmonary abnormality. \\nthis examination and reported findings have been reviewed and confirmed by the undersigned                                     12\n",
      "no acute preoperative findings. \\n   for the opportunity to care for your patient. if  have any questions regarding this report, please  the radiologist, dr.  , at     7\n",
      "no acute radiographic cardiopulmonary process                                                                                                                           5\n",
      "no acute cardiopulmonary abnormalities. \\nthis examination and reported findings have been reviewed and confirmed by the undersigned                                    5\n",
      "negative for acute abnormality                                                                                                                                          5\n",
      "Name: count, dtype: int64\n"
     ]
    }
   ],
   "source": [
    "import pandas as pd\n",
    "df = pd.read_csv('dataset.csv')\n",
    "\n",
    "# Count the occurrences of each value in the 'summary' column\n",
    "summary_counts = df['impression'].value_counts()\n",
    "# Get the top 5 most frequent values\n",
    "top_10_summaries = summary_counts.head(10)\n",
    "\n",
    "# Print the results\n",
    "print(top_10_summaries)"
   ]
  },
  {
   "cell_type": "markdown",
   "metadata": {},
   "source": [
    "As you can see here healthy result are mostly similar. So first we will collect all healthy results under some similar summaries. Then we wil augment it."
   ]
  },
  {
   "cell_type": "code",
   "execution_count": 27,
   "metadata": {},
   "outputs": [],
   "source": [
    "import pandas as pd\n",
    "\n",
    "# Load the CSV file into a pandas DataFrame\n",
    "df = pd.read_csv('dataset.csv')\n",
    "\n",
    "\n",
    "## lines below might look ridiclous yet they make sense\n",
    "## Normaly impression have long sentences, if we see part of repeating sentence we replace it with shorter version\n",
    "\n",
    "# Define the substring to look for and the correct summary text\n",
    "substring = \"for consulting with   Radiology. If  haveany questions or concerns please contact    MD certified in Diagnostic Radiology at  or pager\"\n",
    "correct_summary = \"no acute cardiopulmonary disease.\"\n",
    "\n",
    "# Replace any summary that includes the substring with the correct summary\n",
    "df['impression'] = df['impression'].apply(lambda x: correct_summary if substring in str(x) else x)\n",
    "\n",
    "\n",
    "# Define the substring to look for and the correct summary text\n",
    "substring = \"no acute cardiopulmonary findings.\"\n",
    "correct_summary = \"no acute cardiopulmonary findings.\"\n",
    "# Replace any summary that includes the substring with the correct summary\n",
    "df['impression'] = df['impression'].apply(lambda x: correct_summary if substring in str(x) else x)\n",
    "\n",
    "\n",
    "\n",
    "# Define the substring to look for and the correct summary text\n",
    "substring = \"no acute cardiopulmonary abnormality.\"\n",
    "correct_summary = \"no acute cardiopulmonary abnormality.\"\n",
    "# Replace any summary that includes the substring with the correct summary\n",
    "df['impression'] = df['impression'].apply(lambda x: correct_summary if substring in str(x) else x)\n",
    "\n",
    "# Define the substring to look for and the correct summary text\n",
    "substring = \"no acute abnormality.\"\n",
    "correct_summary = \"no acute abnormality.\"\n",
    "# Replace any summary that includes the substring with the correct summary\n",
    "df['impression'] = df['impression'].apply(lambda x: correct_summary if substring in str(x) else x)\n",
    "\n",
    "\n",
    "\n",
    "# Define the substring to look for and the correct summary text\n",
    "substring = \"there is no evidence of acute cardiopulmonary disease.\"\n",
    "correct_summary = \"there is no evidence of acute cardiopulmonary disease.\"\n",
    "# Replace any summary that includes the substring with the correct summary\n",
    "df['impression'] = df['impression'].apply(lambda x: correct_summary if substring in str(x) else x)\n",
    "\n",
    "\n",
    "# Define the substring to look for and the correct summary text\n",
    "substring = \"no acute cardiopulmonary disease.\"\n",
    "correct_summary = \"no acute cardiopulmonary disease.\"\n",
    "# Replace any summary that includes the substring with the correct summary\n",
    "df['impression'] = df['impression'].apply(lambda x: correct_summary if substring in str(x) else x)\n",
    "\n",
    "\n",
    "\n",
    "# Define the substring to look for and the correct summary text\n",
    "substring = \"no acute cardiopulmonary abnormalities.\"\n",
    "correct_summary = \"no acute cardiopulmonary abnormalities.\"\n",
    "# Replace any summary that includes the substring with the correct summary\n",
    "df['impression'] = df['impression'].apply(lambda x: correct_summary if substring in str(x) else x)\n",
    "\n",
    "\n",
    "\n",
    "# Define the substring to look for and the correct summary text\n",
    "substring = \"no acute cardiopulmonary process.\"\n",
    "correct_summary = \"no acute cardiopulmonary process.\"\n",
    "# Replace any summary that includes the substring with the correct summary\n",
    "df['impression'] = df['impression'].apply(lambda x: correct_summary if substring in str(x) else x)\n",
    "\n",
    "\n",
    "\n",
    "# Define the substring to look for and the correct summary text\n",
    "substring = \"no acute findings.\"\n",
    "correct_summary = \"no acute findings.\"\n",
    "# Replace any summary that includes the substring with the correct summary\n",
    "df['impression'] = df['impression'].apply(lambda x: correct_summary if substring in str(x) else x)\n",
    "\n",
    "# Define the substring to look for and the correct summary text\n",
    "substring = \"no acute preoperative findings.\"\n",
    "correct_summary = \"no acute preoperative findings.\"\n",
    "# Replace any summary that includes the substring with the correct summary\n",
    "df['impression'] = df['impression'].apply(lambda x: correct_summary if substring in str(x) else x)\n",
    "\n",
    "# Define the substring to look for and the correct summary text\n",
    "substring = \"no acute process.\"\n",
    "correct_summary = \"no acute process.\"\n",
    "# Replace any summary that includes the substring with the correct summary\n",
    "df['impression'] = df['impression'].apply(lambda x: correct_summary if substring in str(x) else x)\n",
    "\n",
    "# Define the substring to look for and the correct summary text\n",
    "substring = \"no acute pulmonary findings\"\n",
    "correct_summary = \"no acute pulmonary findings\"\n",
    "# Replace any summary that includes the substring with the correct summary\n",
    "df['impression'] = df['impression'].apply(lambda x: correct_summary if substring in str(x) else x)\n",
    "\n",
    "\n",
    "\n",
    "# Define the substring to look for and the correct summary text\n",
    "substring = \"no acute pulmonary findings.\"\n",
    "correct_summary = \"no acute pulmonary findings.\"\n",
    "# Replace any summary that includes the substring with the correct summary\n",
    "df['impression'] = df['impression'].apply(lambda x: correct_summary if substring in str(x) else x)\n",
    "\n",
    "\n",
    "# Define the substring to look for and the correct summary text\n",
    "substring = \"no acute cardiopulmonary abnormalities are seen.\"\n",
    "correct_summary = \"no acute cardiopulmonary abnormalities are seen.\"\n",
    "# Replace any summary that includes the substring with the correct summary\n",
    "df['impression'] = df['impression'].apply(lambda x: correct_summary if substring in str(x) else x)\n",
    "\n",
    "\n",
    "\n",
    "\n",
    "# Define the substring to look for and the correct summary text\n",
    "substring = \"no acute cardiopulmonary disease\"\n",
    "correct_summary = \"no acute cardiopulmonary disease.\"\n",
    "# Replace any summary that includes the substring with the correct summary\n",
    "df['impression'] = df['impression'].apply(lambda x: correct_summary if substring in str(x) else x)\n",
    "\n",
    "\n",
    "\n",
    "# Save the cleaned DataFrame back to a CSV file\n",
    "df.to_csv('augready.csv', index=False)"
   ]
  },
  {
   "cell_type": "code",
   "execution_count": 29,
   "metadata": {},
   "outputs": [
    {
     "name": "stdout",
     "output_type": "stream",
     "text": [
      "impression\n",
      "no acute disease                           25\n",
      "no acute cardiopulmonary abnormality.      25\n",
      "no acute cardiopulmonary disease.          22\n",
      "no evidence of active disease              19\n",
      "no acute cardiopulmonary findings.         13\n",
      "no acute cardiopulmonary abnormality       12\n",
      "no acute findings.                          9\n",
      "no acute preoperative findings.             8\n",
      "no acute cardiopulmonary process.           6\n",
      "no acute cardiopulmonary abnormalities.     6\n",
      "Name: count, dtype: int64\n"
     ]
    }
   ],
   "source": [
    "import pandas as pd\n",
    "df = pd.read_csv('augready.csv')\n",
    "\n",
    "# Count the occurrences of each value in the 'summary' column\n",
    "summary_counts = df['impression'].value_counts()\n",
    "# Get the top 5 most frequent values\n",
    "top_10_summaries = summary_counts.head(10)\n",
    "\n",
    "# Print the results\n",
    "print(top_10_summaries)"
   ]
  },
  {
   "cell_type": "markdown",
   "metadata": {},
   "source": [
    "Now we have some targets that we can enhance"
   ]
  }
 ],
 "metadata": {
  "kernelspec": {
   "display_name": "Python 3",
   "language": "python",
   "name": "python3"
  },
  "language_info": {
   "codemirror_mode": {
    "name": "ipython",
    "version": 3
   },
   "file_extension": ".py",
   "mimetype": "text/x-python",
   "name": "python",
   "nbconvert_exporter": "python",
   "pygments_lexer": "ipython3",
   "version": "3.11.9"
  }
 },
 "nbformat": 4,
 "nbformat_minor": 2
}
